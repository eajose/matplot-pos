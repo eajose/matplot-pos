{
 "cells": [
  {
   "cell_type": "code",
   "execution_count": 7,
   "source": [
    "#Importa libs utilizadas no projeto\n",
    "import pandas as pd\n",
    "import matplotlib.pyplot as plt\n",
    "from tkinter import Tk\n",
    "from tkinter.filedialog import askopenfilename\n",
    "import numpy as np"
   ],
   "outputs": [],
   "metadata": {}
  },
  {
   "cell_type": "code",
   "execution_count": 3,
   "source": [
    "#Cria interface visual para selecionar o arquivo 'addresses.csv' localizado na pasta data\n",
    "Tk().withdraw()\n",
    "file = askopenfilename()\n"
   ],
   "outputs": [],
   "metadata": {}
  },
  {
   "cell_type": "code",
   "execution_count": 4,
   "source": [
    "#Cria o dataframe a partir do csv carregado e padroniza os valores None/NaN\n",
    "df = pd.read_csv(file)\n",
    "df.style.format(na_rep='Missing')"
   ],
   "outputs": [
    {
     "output_type": "execute_result",
     "data": {
      "text/html": [
       "<style type=\"text/css\">\n",
       "</style>\n",
       "<table id=\"T_85946_\">\n",
       "  <thead>\n",
       "    <tr>\n",
       "      <th class=\"blank level0\" >&nbsp;</th>\n",
       "      <th class=\"col_heading level0 col0\" >Month</th>\n",
       "      <th class=\"col_heading level0 col1\" > \"1958\"</th>\n",
       "      <th class=\"col_heading level0 col2\" > \"1959\"</th>\n",
       "      <th class=\"col_heading level0 col3\" > \"1960\"</th>\n",
       "    </tr>\n",
       "  </thead>\n",
       "  <tbody>\n",
       "    <tr>\n",
       "      <th id=\"T_85946_level0_row0\" class=\"row_heading level0 row0\" >0</th>\n",
       "      <td id=\"T_85946_row0_col0\" class=\"data row0 col0\" >JAN</td>\n",
       "      <td id=\"T_85946_row0_col1\" class=\"data row0 col1\" >340</td>\n",
       "      <td id=\"T_85946_row0_col2\" class=\"data row0 col2\" >360</td>\n",
       "      <td id=\"T_85946_row0_col3\" class=\"data row0 col3\" >417</td>\n",
       "    </tr>\n",
       "    <tr>\n",
       "      <th id=\"T_85946_level0_row1\" class=\"row_heading level0 row1\" >1</th>\n",
       "      <td id=\"T_85946_row1_col0\" class=\"data row1 col0\" >FEB</td>\n",
       "      <td id=\"T_85946_row1_col1\" class=\"data row1 col1\" >318</td>\n",
       "      <td id=\"T_85946_row1_col2\" class=\"data row1 col2\" >342</td>\n",
       "      <td id=\"T_85946_row1_col3\" class=\"data row1 col3\" >391</td>\n",
       "    </tr>\n",
       "    <tr>\n",
       "      <th id=\"T_85946_level0_row2\" class=\"row_heading level0 row2\" >2</th>\n",
       "      <td id=\"T_85946_row2_col0\" class=\"data row2 col0\" >MAR</td>\n",
       "      <td id=\"T_85946_row2_col1\" class=\"data row2 col1\" >362</td>\n",
       "      <td id=\"T_85946_row2_col2\" class=\"data row2 col2\" >406</td>\n",
       "      <td id=\"T_85946_row2_col3\" class=\"data row2 col3\" >419</td>\n",
       "    </tr>\n",
       "    <tr>\n",
       "      <th id=\"T_85946_level0_row3\" class=\"row_heading level0 row3\" >3</th>\n",
       "      <td id=\"T_85946_row3_col0\" class=\"data row3 col0\" >APR</td>\n",
       "      <td id=\"T_85946_row3_col1\" class=\"data row3 col1\" >348</td>\n",
       "      <td id=\"T_85946_row3_col2\" class=\"data row3 col2\" >396</td>\n",
       "      <td id=\"T_85946_row3_col3\" class=\"data row3 col3\" >461</td>\n",
       "    </tr>\n",
       "    <tr>\n",
       "      <th id=\"T_85946_level0_row4\" class=\"row_heading level0 row4\" >4</th>\n",
       "      <td id=\"T_85946_row4_col0\" class=\"data row4 col0\" >MAY</td>\n",
       "      <td id=\"T_85946_row4_col1\" class=\"data row4 col1\" >363</td>\n",
       "      <td id=\"T_85946_row4_col2\" class=\"data row4 col2\" >420</td>\n",
       "      <td id=\"T_85946_row4_col3\" class=\"data row4 col3\" >472</td>\n",
       "    </tr>\n",
       "    <tr>\n",
       "      <th id=\"T_85946_level0_row5\" class=\"row_heading level0 row5\" >5</th>\n",
       "      <td id=\"T_85946_row5_col0\" class=\"data row5 col0\" >JUN</td>\n",
       "      <td id=\"T_85946_row5_col1\" class=\"data row5 col1\" >435</td>\n",
       "      <td id=\"T_85946_row5_col2\" class=\"data row5 col2\" >472</td>\n",
       "      <td id=\"T_85946_row5_col3\" class=\"data row5 col3\" >535</td>\n",
       "    </tr>\n",
       "    <tr>\n",
       "      <th id=\"T_85946_level0_row6\" class=\"row_heading level0 row6\" >6</th>\n",
       "      <td id=\"T_85946_row6_col0\" class=\"data row6 col0\" >JUL</td>\n",
       "      <td id=\"T_85946_row6_col1\" class=\"data row6 col1\" >491</td>\n",
       "      <td id=\"T_85946_row6_col2\" class=\"data row6 col2\" >548</td>\n",
       "      <td id=\"T_85946_row6_col3\" class=\"data row6 col3\" >622</td>\n",
       "    </tr>\n",
       "    <tr>\n",
       "      <th id=\"T_85946_level0_row7\" class=\"row_heading level0 row7\" >7</th>\n",
       "      <td id=\"T_85946_row7_col0\" class=\"data row7 col0\" >AUG</td>\n",
       "      <td id=\"T_85946_row7_col1\" class=\"data row7 col1\" >505</td>\n",
       "      <td id=\"T_85946_row7_col2\" class=\"data row7 col2\" >559</td>\n",
       "      <td id=\"T_85946_row7_col3\" class=\"data row7 col3\" >606</td>\n",
       "    </tr>\n",
       "    <tr>\n",
       "      <th id=\"T_85946_level0_row8\" class=\"row_heading level0 row8\" >8</th>\n",
       "      <td id=\"T_85946_row8_col0\" class=\"data row8 col0\" >SEP</td>\n",
       "      <td id=\"T_85946_row8_col1\" class=\"data row8 col1\" >404</td>\n",
       "      <td id=\"T_85946_row8_col2\" class=\"data row8 col2\" >463</td>\n",
       "      <td id=\"T_85946_row8_col3\" class=\"data row8 col3\" >508</td>\n",
       "    </tr>\n",
       "    <tr>\n",
       "      <th id=\"T_85946_level0_row9\" class=\"row_heading level0 row9\" >9</th>\n",
       "      <td id=\"T_85946_row9_col0\" class=\"data row9 col0\" >OCT</td>\n",
       "      <td id=\"T_85946_row9_col1\" class=\"data row9 col1\" >359</td>\n",
       "      <td id=\"T_85946_row9_col2\" class=\"data row9 col2\" >407</td>\n",
       "      <td id=\"T_85946_row9_col3\" class=\"data row9 col3\" >461</td>\n",
       "    </tr>\n",
       "    <tr>\n",
       "      <th id=\"T_85946_level0_row10\" class=\"row_heading level0 row10\" >10</th>\n",
       "      <td id=\"T_85946_row10_col0\" class=\"data row10 col0\" >NOV</td>\n",
       "      <td id=\"T_85946_row10_col1\" class=\"data row10 col1\" >310</td>\n",
       "      <td id=\"T_85946_row10_col2\" class=\"data row10 col2\" >362</td>\n",
       "      <td id=\"T_85946_row10_col3\" class=\"data row10 col3\" >390</td>\n",
       "    </tr>\n",
       "    <tr>\n",
       "      <th id=\"T_85946_level0_row11\" class=\"row_heading level0 row11\" >11</th>\n",
       "      <td id=\"T_85946_row11_col0\" class=\"data row11 col0\" >DEC</td>\n",
       "      <td id=\"T_85946_row11_col1\" class=\"data row11 col1\" >337</td>\n",
       "      <td id=\"T_85946_row11_col2\" class=\"data row11 col2\" >405</td>\n",
       "      <td id=\"T_85946_row11_col3\" class=\"data row11 col3\" >432</td>\n",
       "    </tr>\n",
       "  </tbody>\n",
       "</table>\n"
      ],
      "text/plain": [
       "<pandas.io.formats.style.Styler at 0x7f759928a7f0>"
      ]
     },
     "metadata": {},
     "execution_count": 4
    }
   ],
   "metadata": {}
  },
  {
   "cell_type": "code",
   "execution_count": 60,
   "source": [
    "dictionary = {}\n",
    "years = list(df.head(0))[1:]\n",
    "for year in years:\n",
    "    year_formated = int(year.replace('\"', ''))\n",
    "    dictionary[year_formated] = {}\n",
    "    for value in df.values:\n",
    "        dictionary[year_formated][value[0]] = [value[1], value[2], value[3]]\n",
    "print(dictionary)"
   ],
   "outputs": [
    {
     "output_type": "stream",
     "name": "stdout",
     "text": [
      "{1958: {'JAN': [340, 360, 417], 'FEB': [318, 342, 391], 'MAR': [362, 406, 419], 'APR': [348, 396, 461], 'MAY': [363, 420, 472], 'JUN': [435, 472, 535], 'JUL': [491, 548, 622], 'AUG': [505, 559, 606], 'SEP': [404, 463, 508], 'OCT': [359, 407, 461], 'NOV': [310, 362, 390], 'DEC': [337, 405, 432]}, 1959: {'JAN': [340, 360, 417], 'FEB': [318, 342, 391], 'MAR': [362, 406, 419], 'APR': [348, 396, 461], 'MAY': [363, 420, 472], 'JUN': [435, 472, 535], 'JUL': [491, 548, 622], 'AUG': [505, 559, 606], 'SEP': [404, 463, 508], 'OCT': [359, 407, 461], 'NOV': [310, 362, 390], 'DEC': [337, 405, 432]}, 1960: {'JAN': [340, 360, 417], 'FEB': [318, 342, 391], 'MAR': [362, 406, 419], 'APR': [348, 396, 461], 'MAY': [363, 420, 472], 'JUN': [435, 472, 535], 'JUL': [491, 548, 622], 'AUG': [505, 559, 606], 'SEP': [404, 463, 508], 'OCT': [359, 407, 461], 'NOV': [310, 362, 390], 'DEC': [337, 405, 432]}}\n"
     ]
    }
   ],
   "metadata": {}
  },
  {
   "cell_type": "code",
   "execution_count": 104,
   "source": [
    "legend = list(dictionary.keys())\n",
    "y = [y for y in dictionary[year_formated].values()]\n",
    "labels = [label for label in dictionary[year_formated]]\n",
    "ano1 = []\n",
    "ano2 = []\n",
    "ano3 = []\n",
    "for x in y:\n",
    "    ano1.append(x[0])\n",
    "    ano2.append(x[1])\n",
    "    ano3.append(x[2])\n",
    "\n",
    "x = np.arange(len(labels))\n",
    "width = 0.2\n",
    "\n",
    "plt.bar(x-0.2, ano1, width, color='cyan')\n",
    "plt.bar(x, ano2, width, color='orange')\n",
    "plt.bar(x+0.2, ano3, width, color='green')\n",
    "plt.xticks(x, labels)\n",
    "plt.xlabel(\"Months\")\n",
    "plt.ylabel(\"Travels\")\n",
    "plt.legend(legend)\n",
    "plt.show()\n",
    "    \n"
   ],
   "outputs": [
    {
     "output_type": "display_data",
     "data": {
      "image/png": "[encoded data removed]",
      "text/plain": [
       "<Figure size 432x288 with 1 Axes>"
      ]
     },
     "metadata": {
      "needs_background": "light"
     }
    }
   ],
   "metadata": {}
  }
 ],
 "metadata": {
  "interpreter": {
   "hash": "916dbcbb3f70747c44a77c7bcd40155683ae19c65e1c03b4aa3499c5328201f1"
  },
  "kernelspec": {
   "display_name": "Python 3 (ipykernel)",
   "language": "python",
   "name": "python3"
  },
  "language_info": {
   "codemirror_mode": {
    "name": "ipython",
    "version": 3
   },
   "file_extension": ".py",
   "mimetype": "text/x-python",
   "name": "python",
   "nbconvert_exporter": "python",
   "pygments_lexer": "ipython3",
   "version": "3.8.10"
  }
 },
 "nbformat": 4,
 "nbformat_minor": 2
}
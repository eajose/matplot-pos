{
 "cells": [
  {
   "cell_type": "code",
   "execution_count": 1,
   "source": [
    "#Importa libs utilizadas no projeto\n",
    "import pandas as pd\n",
    "import matplotlib.pyplot as plt\n",
    "from tkinter import Tk\n",
    "from tkinter.filedialog import askopenfilename"
   ],
   "outputs": [],
   "metadata": {}
  },
  {
   "cell_type": "code",
   "execution_count": 6,
   "source": [
    "#Cria interface visual para selecionar o arquivo 'addresses.csv' localizado na pasta data\n",
    "Tk().withdraw()\n",
    "file = askopenfilename()\n"
   ],
   "outputs": [],
   "metadata": {}
  },
  {
   "cell_type": "code",
   "execution_count": 8,
   "source": [
    "#Cria o dataframe a partir do csv carregado e padroniza os valores None/NaN\n",
    "df = pd.read_csv(file)\n",
    "df.columns = ['Name', 'Surname', 'Street', 'State', 'UF', 'Postcode']\n",
    "df.style.format(na_rep='Missing')"
   ],
   "outputs": [
    {
     "output_type": "execute_result",
     "data": {
      "text/html": [
       "<style type=\"text/css\">\n",
       "</style>\n",
       "<table id=\"T_89a1b_\">\n",
       "  <thead>\n",
       "    <tr>\n",
       "      <th class=\"blank level0\" >&nbsp;</th>\n",
       "      <th class=\"col_heading level0 col0\" >Name</th>\n",
       "      <th class=\"col_heading level0 col1\" >Surname</th>\n",
       "      <th class=\"col_heading level0 col2\" >Street</th>\n",
       "      <th class=\"col_heading level0 col3\" >State</th>\n",
       "      <th class=\"col_heading level0 col4\" >UF</th>\n",
       "      <th class=\"col_heading level0 col5\" >Postcode</th>\n",
       "    </tr>\n",
       "  </thead>\n",
       "  <tbody>\n",
       "    <tr>\n",
       "      <th id=\"T_89a1b_level0_row0\" class=\"row_heading level0 row0\" >0</th>\n",
       "      <td id=\"T_89a1b_row0_col0\" class=\"data row0 col0\" >Jack</td>\n",
       "      <td id=\"T_89a1b_row0_col1\" class=\"data row0 col1\" >McGinnis</td>\n",
       "      <td id=\"T_89a1b_row0_col2\" class=\"data row0 col2\" >220 hobo Av.</td>\n",
       "      <td id=\"T_89a1b_row0_col3\" class=\"data row0 col3\" >Phila</td>\n",
       "      <td id=\"T_89a1b_row0_col4\" class=\"data row0 col4\" > PA</td>\n",
       "      <td id=\"T_89a1b_row0_col5\" class=\"data row0 col5\" >9119</td>\n",
       "    </tr>\n",
       "    <tr>\n",
       "      <th id=\"T_89a1b_level0_row1\" class=\"row_heading level0 row1\" >1</th>\n",
       "      <td id=\"T_89a1b_row1_col0\" class=\"data row1 col0\" >John \"Da Man\"</td>\n",
       "      <td id=\"T_89a1b_row1_col1\" class=\"data row1 col1\" >Repici</td>\n",
       "      <td id=\"T_89a1b_row1_col2\" class=\"data row1 col2\" >120 Jefferson St.</td>\n",
       "      <td id=\"T_89a1b_row1_col3\" class=\"data row1 col3\" >Riverside</td>\n",
       "      <td id=\"T_89a1b_row1_col4\" class=\"data row1 col4\" > NJ</td>\n",
       "      <td id=\"T_89a1b_row1_col5\" class=\"data row1 col5\" >8075</td>\n",
       "    </tr>\n",
       "    <tr>\n",
       "      <th id=\"T_89a1b_level0_row2\" class=\"row_heading level0 row2\" >2</th>\n",
       "      <td id=\"T_89a1b_row2_col0\" class=\"data row2 col0\" >Stephen</td>\n",
       "      <td id=\"T_89a1b_row2_col1\" class=\"data row2 col1\" >Tyler</td>\n",
       "      <td id=\"T_89a1b_row2_col2\" class=\"data row2 col2\" >7452 Terrace \"At the Plaza\" road</td>\n",
       "      <td id=\"T_89a1b_row2_col3\" class=\"data row2 col3\" >SomeTown</td>\n",
       "      <td id=\"T_89a1b_row2_col4\" class=\"data row2 col4\" >SD</td>\n",
       "      <td id=\"T_89a1b_row2_col5\" class=\"data row2 col5\" >91234</td>\n",
       "    </tr>\n",
       "    <tr>\n",
       "      <th id=\"T_89a1b_level0_row3\" class=\"row_heading level0 row3\" >3</th>\n",
       "      <td id=\"T_89a1b_row3_col0\" class=\"data row3 col0\" >Missing</td>\n",
       "      <td id=\"T_89a1b_row3_col1\" class=\"data row3 col1\" >Blankman</td>\n",
       "      <td id=\"T_89a1b_row3_col2\" class=\"data row3 col2\" >Missing</td>\n",
       "      <td id=\"T_89a1b_row3_col3\" class=\"data row3 col3\" >SomeTown</td>\n",
       "      <td id=\"T_89a1b_row3_col4\" class=\"data row3 col4\" > SD</td>\n",
       "      <td id=\"T_89a1b_row3_col5\" class=\"data row3 col5\" >298</td>\n",
       "    </tr>\n",
       "    <tr>\n",
       "      <th id=\"T_89a1b_level0_row4\" class=\"row_heading level0 row4\" >4</th>\n",
       "      <td id=\"T_89a1b_row4_col0\" class=\"data row4 col0\" >Joan \"the bone\", Anne</td>\n",
       "      <td id=\"T_89a1b_row4_col1\" class=\"data row4 col1\" >Jet</td>\n",
       "      <td id=\"T_89a1b_row4_col2\" class=\"data row4 col2\" >9th, at Terrace plc</td>\n",
       "      <td id=\"T_89a1b_row4_col3\" class=\"data row4 col3\" >Desert City</td>\n",
       "      <td id=\"T_89a1b_row4_col4\" class=\"data row4 col4\" >CO</td>\n",
       "      <td id=\"T_89a1b_row4_col5\" class=\"data row4 col5\" >123</td>\n",
       "    </tr>\n",
       "  </tbody>\n",
       "</table>\n"
      ],
      "text/plain": [
       "<pandas.io.formats.style.Styler at 0x7f1504378f10>"
      ]
     },
     "metadata": {},
     "execution_count": 8
    }
   ],
   "metadata": {}
  },
  {
   "cell_type": "code",
   "execution_count": 93,
   "source": [
    "#Cria uma estrutura de dados a partir do dataframe anterior para extrair indicadores e criar um novo dataframe\n",
    "dictionary = {\n",
    "    'State': [],\n",
    "    'Count_State': []\n",
    "\n",
    "}\n",
    "for state in df['State']:\n",
    "    if state not in dictionary['State']:\n",
    "        dictionary['State'].append(state)\n",
    "        dictionary['Count_State'].append(df.loc[df['State'].isin([state])]['State'].count())\n",
    "\n",
    "print(dictionary)"
   ],
   "outputs": [
    {
     "output_type": "stream",
     "name": "stdout",
     "text": [
      "{'State': ['Phila', 'Riverside', 'SomeTown', 'Desert City'], 'Count_State': [1, 1, 2, 1]}\n"
     ]
    }
   ],
   "metadata": {}
  },
  {
   "cell_type": "code",
   "execution_count": 94,
   "source": [
    "#Cria um novo dataframe a partir da estrutura de dados acima\n",
    "count_states = pd.DataFrame.from_dict(dictionary)\n",
    "\n",
    "count_states.style"
   ],
   "outputs": [
    {
     "output_type": "execute_result",
     "data": {
      "text/html": [
       "<style type=\"text/css\">\n",
       "</style>\n",
       "<table id=\"T_35e88_\">\n",
       "  <thead>\n",
       "    <tr>\n",
       "      <th class=\"blank level0\" >&nbsp;</th>\n",
       "      <th class=\"col_heading level0 col0\" >State</th>\n",
       "      <th class=\"col_heading level0 col1\" >Count_State</th>\n",
       "    </tr>\n",
       "  </thead>\n",
       "  <tbody>\n",
       "    <tr>\n",
       "      <th id=\"T_35e88_level0_row0\" class=\"row_heading level0 row0\" >0</th>\n",
       "      <td id=\"T_35e88_row0_col0\" class=\"data row0 col0\" >Phila</td>\n",
       "      <td id=\"T_35e88_row0_col1\" class=\"data row0 col1\" >1</td>\n",
       "    </tr>\n",
       "    <tr>\n",
       "      <th id=\"T_35e88_level0_row1\" class=\"row_heading level0 row1\" >1</th>\n",
       "      <td id=\"T_35e88_row1_col0\" class=\"data row1 col0\" >Riverside</td>\n",
       "      <td id=\"T_35e88_row1_col1\" class=\"data row1 col1\" >1</td>\n",
       "    </tr>\n",
       "    <tr>\n",
       "      <th id=\"T_35e88_level0_row2\" class=\"row_heading level0 row2\" >2</th>\n",
       "      <td id=\"T_35e88_row2_col0\" class=\"data row2 col0\" >SomeTown</td>\n",
       "      <td id=\"T_35e88_row2_col1\" class=\"data row2 col1\" >2</td>\n",
       "    </tr>\n",
       "    <tr>\n",
       "      <th id=\"T_35e88_level0_row3\" class=\"row_heading level0 row3\" >3</th>\n",
       "      <td id=\"T_35e88_row3_col0\" class=\"data row3 col0\" >Desert City</td>\n",
       "      <td id=\"T_35e88_row3_col1\" class=\"data row3 col1\" >1</td>\n",
       "    </tr>\n",
       "  </tbody>\n",
       "</table>\n"
      ],
      "text/plain": [
       "<pandas.io.formats.style.Styler at 0x7f14bee41fa0>"
      ]
     },
     "metadata": {},
     "execution_count": 94
    }
   ],
   "metadata": {}
  },
  {
   "cell_type": "code",
   "execution_count": 89,
   "source": [
    "#Usa o dataframe criado a partir do dicionário de indicadores para plotar o gráfico usando matplotlib\n",
    "plt.barh(count_states['State'], count_states['Count_State'])"
   ],
   "outputs": [
    {
     "output_type": "execute_result",
     "data": {
      "text/plain": [
       "<BarContainer object of 5 artists>"
      ]
     },
     "metadata": {},
     "execution_count": 89
    },
    {
     "output_type": "display_data",
     "data": {
      "image/png": "[encoded data removed]",
      "text/plain": [
       "<Figure size 432x288 with 1 Axes>"
      ]
     },
     "metadata": {
      "needs_background": "light"
     }
    }
   ],
   "metadata": {}
  }
 ],
 "metadata": {
  "interpreter": {
   "hash": "31f2aee4e71d21fbe5cf8b01ff0e069b9275f58929596ceb00d14d90e3e16cd6"
  },
  "kernelspec": {
   "display_name": "Python 3 (ipykernel)",
   "language": "python",
   "name": "python3"
  },
  "language_info": {
   "codemirror_mode": {
    "name": "ipython",
    "version": 3
   },
   "file_extension": ".py",
   "mimetype": "text/x-python",
   "name": "python",
   "nbconvert_exporter": "python",
   "pygments_lexer": "ipython3",
   "version": "3.8.10"
  }
 },
 "nbformat": 4,
 "nbformat_minor": 2
}
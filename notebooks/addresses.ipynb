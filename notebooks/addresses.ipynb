{
 "cells": [
  {
   "cell_type": "code",
   "execution_count": 7,
   "source": [
    "import pandas as pd\n",
    "import matplotlib.pyplot as plt"
   ],
   "outputs": [],
   "metadata": {}
  },
  {
   "cell_type": "code",
   "execution_count": 8,
   "source": [
    "file = '/home/eduardo/Project/Python/matplot-pos/data/addresses.csv'\n",
    "df = pd.read_csv(file)\n",
    "df.columns = ['Name', 'Surname', 'Street', 'State', 'UF', 'Postcode']\n",
    "df.style.format(precision=0, na_rep='Missing', thousands=\" \")\n"
   ],
   "outputs": [
    {
     "output_type": "execute_result",
     "data": {
      "text/html": [
       "<style type=\"text/css\">\n",
       "</style>\n",
       "<table id=\"T_a53c9_\">\n",
       "  <thead>\n",
       "    <tr>\n",
       "      <th class=\"blank level0\" >&nbsp;</th>\n",
       "      <th class=\"col_heading level0 col0\" >Name</th>\n",
       "      <th class=\"col_heading level0 col1\" >Surname</th>\n",
       "      <th class=\"col_heading level0 col2\" >Street</th>\n",
       "      <th class=\"col_heading level0 col3\" >State</th>\n",
       "      <th class=\"col_heading level0 col4\" >UF</th>\n",
       "      <th class=\"col_heading level0 col5\" >Postcode</th>\n",
       "    </tr>\n",
       "  </thead>\n",
       "  <tbody>\n",
       "    <tr>\n",
       "      <th id=\"T_a53c9_level0_row0\" class=\"row_heading level0 row0\" >0</th>\n",
       "      <td id=\"T_a53c9_row0_col0\" class=\"data row0 col0\" >Jack</td>\n",
       "      <td id=\"T_a53c9_row0_col1\" class=\"data row0 col1\" >McGinnis</td>\n",
       "      <td id=\"T_a53c9_row0_col2\" class=\"data row0 col2\" >220 hobo Av.</td>\n",
       "      <td id=\"T_a53c9_row0_col3\" class=\"data row0 col3\" >Phila</td>\n",
       "      <td id=\"T_a53c9_row0_col4\" class=\"data row0 col4\" > PA</td>\n",
       "      <td id=\"T_a53c9_row0_col5\" class=\"data row0 col5\" >9 119</td>\n",
       "    </tr>\n",
       "    <tr>\n",
       "      <th id=\"T_a53c9_level0_row1\" class=\"row_heading level0 row1\" >1</th>\n",
       "      <td id=\"T_a53c9_row1_col0\" class=\"data row1 col0\" >John \"Da Man\"</td>\n",
       "      <td id=\"T_a53c9_row1_col1\" class=\"data row1 col1\" >Repici</td>\n",
       "      <td id=\"T_a53c9_row1_col2\" class=\"data row1 col2\" >120 Jefferson St.</td>\n",
       "      <td id=\"T_a53c9_row1_col3\" class=\"data row1 col3\" >Riverside</td>\n",
       "      <td id=\"T_a53c9_row1_col4\" class=\"data row1 col4\" > NJ</td>\n",
       "      <td id=\"T_a53c9_row1_col5\" class=\"data row1 col5\" >8 075</td>\n",
       "    </tr>\n",
       "    <tr>\n",
       "      <th id=\"T_a53c9_level0_row2\" class=\"row_heading level0 row2\" >2</th>\n",
       "      <td id=\"T_a53c9_row2_col0\" class=\"data row2 col0\" >Stephen</td>\n",
       "      <td id=\"T_a53c9_row2_col1\" class=\"data row2 col1\" >Tyler</td>\n",
       "      <td id=\"T_a53c9_row2_col2\" class=\"data row2 col2\" >7452 Terrace \"At the Plaza\" road</td>\n",
       "      <td id=\"T_a53c9_row2_col3\" class=\"data row2 col3\" >SomeTown</td>\n",
       "      <td id=\"T_a53c9_row2_col4\" class=\"data row2 col4\" >SD</td>\n",
       "      <td id=\"T_a53c9_row2_col5\" class=\"data row2 col5\" >91 234</td>\n",
       "    </tr>\n",
       "    <tr>\n",
       "      <th id=\"T_a53c9_level0_row3\" class=\"row_heading level0 row3\" >3</th>\n",
       "      <td id=\"T_a53c9_row3_col0\" class=\"data row3 col0\" >Missing</td>\n",
       "      <td id=\"T_a53c9_row3_col1\" class=\"data row3 col1\" >Blankman</td>\n",
       "      <td id=\"T_a53c9_row3_col2\" class=\"data row3 col2\" >Missing</td>\n",
       "      <td id=\"T_a53c9_row3_col3\" class=\"data row3 col3\" >SomeTown</td>\n",
       "      <td id=\"T_a53c9_row3_col4\" class=\"data row3 col4\" > SD</td>\n",
       "      <td id=\"T_a53c9_row3_col5\" class=\"data row3 col5\" >298</td>\n",
       "    </tr>\n",
       "    <tr>\n",
       "      <th id=\"T_a53c9_level0_row4\" class=\"row_heading level0 row4\" >4</th>\n",
       "      <td id=\"T_a53c9_row4_col0\" class=\"data row4 col0\" >Joan \"the bone\", Anne</td>\n",
       "      <td id=\"T_a53c9_row4_col1\" class=\"data row4 col1\" >Jet</td>\n",
       "      <td id=\"T_a53c9_row4_col2\" class=\"data row4 col2\" >9th, at Terrace plc</td>\n",
       "      <td id=\"T_a53c9_row4_col3\" class=\"data row4 col3\" >Desert City</td>\n",
       "      <td id=\"T_a53c9_row4_col4\" class=\"data row4 col4\" >CO</td>\n",
       "      <td id=\"T_a53c9_row4_col5\" class=\"data row4 col5\" >123</td>\n",
       "    </tr>\n",
       "  </tbody>\n",
       "</table>\n"
      ],
      "text/plain": [
       "<pandas.io.formats.style.Styler at 0x7fee7ba94a90>"
      ]
     },
     "metadata": {},
     "execution_count": 8
    }
   ],
   "metadata": {}
  },
  {
   "cell_type": "code",
   "execution_count": 18,
   "source": [
    "df['State'].value_counts()[:5].plot(kind='barh')"
   ],
   "outputs": [
    {
     "output_type": "execute_result",
     "data": {
      "text/plain": [
       "<AxesSubplot:>"
      ]
     },
     "metadata": {},
     "execution_count": 18
    },
    {
     "output_type": "display_data",
     "data": {
      "image/png": "[encoded data removed]",
      "text/plain": [
       "<Figure size 432x288 with 1 Axes>"
      ]
     },
     "metadata": {
      "needs_background": "light"
     }
    }
   ],
   "metadata": {}
  }
 ],
 "metadata": {
  "interpreter": {
   "hash": "31f2aee4e71d21fbe5cf8b01ff0e069b9275f58929596ceb00d14d90e3e16cd6"
  },
  "kernelspec": {
   "name": "python3",
   "display_name": "Python 3.8.10 64-bit"
  },
  "language_info": {
   "codemirror_mode": {
    "name": "ipython",
    "version": 3
   },
   "file_extension": ".py",
   "mimetype": "text/x-python",
   "name": "python",
   "nbconvert_exporter": "python",
   "pygments_lexer": "ipython3",
   "version": "3.8.10"
  }
 },
 "nbformat": 4,
 "nbformat_minor": 2
}